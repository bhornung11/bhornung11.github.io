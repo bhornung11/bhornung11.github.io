{
 "cells": [
  {
   "cell_type": "code",
   "execution_count": 2,
   "id": "4f2d57e0",
   "metadata": {
    "scrolled": true
   },
   "outputs": [
    {
     "name": "stderr",
     "output_type": "stream",
     "text": [
      "\u001b[36m\u001b[1m[ \u001b[22m\u001b[39m\u001b[36m\u001b[1mInfo: \u001b[22m\u001b[39mPrecompiling ProfileView [c46f51b8-102a-5cf2-8d2c-8597cb0e0da7]\n",
      "\u001b[33m\u001b[1m┌ \u001b[22m\u001b[39m\u001b[33m\u001b[1mWarning: \u001b[22m\u001b[39mModule HarfBuzz_jll with build ID 25949020594968 is missing from the cache.\n",
      "\u001b[33m\u001b[1m│ \u001b[22m\u001b[39mThis may mean HarfBuzz_jll [2e76f6c2-a576-52d4-95c1-20adfe4de566] does not support precompilation but is imported by a module that does.\n",
      "\u001b[33m\u001b[1m└ \u001b[22m\u001b[39m\u001b[90m@ Base loading.jl:1107\u001b[39m\n",
      "\u001b[33m\u001b[1m┌ \u001b[22m\u001b[39m\u001b[33m\u001b[1mWarning: \u001b[22m\u001b[39mModule HarfBuzz_jll with build ID 25949020594968 is missing from the cache.\n",
      "\u001b[33m\u001b[1m│ \u001b[22m\u001b[39mThis may mean HarfBuzz_jll [2e76f6c2-a576-52d4-95c1-20adfe4de566] does not support precompilation but is imported by a module that does.\n",
      "\u001b[33m\u001b[1m└ \u001b[22m\u001b[39m\u001b[90m@ Base loading.jl:1107\u001b[39m\n",
      "\u001b[33m\u001b[1m┌ \u001b[22m\u001b[39m\u001b[33m\u001b[1mWarning: \u001b[22m\u001b[39mModule HarfBuzz_jll with build ID 25949020594968 is missing from the cache.\n",
      "\u001b[33m\u001b[1m│ \u001b[22m\u001b[39mThis may mean HarfBuzz_jll [2e76f6c2-a576-52d4-95c1-20adfe4de566] does not support precompilation but is imported by a module that does.\n",
      "\u001b[33m\u001b[1m└ \u001b[22m\u001b[39m\u001b[90m@ Base loading.jl:1107\u001b[39m\n",
      "\u001b[33m\u001b[1m┌ \u001b[22m\u001b[39m\u001b[33m\u001b[1mWarning: \u001b[22m\u001b[39mModule HarfBuzz_jll with build ID 25949020594968 is missing from the cache.\n",
      "\u001b[33m\u001b[1m│ \u001b[22m\u001b[39mThis may mean HarfBuzz_jll [2e76f6c2-a576-52d4-95c1-20adfe4de566] does not support precompilation but is imported by a module that does.\n",
      "\u001b[33m\u001b[1m└ \u001b[22m\u001b[39m\u001b[90m@ Base loading.jl:1107\u001b[39m\n",
      "\u001b[33m\u001b[1m┌ \u001b[22m\u001b[39m\u001b[33m\u001b[1mWarning: \u001b[22m\u001b[39mModule HarfBuzz_jll with build ID 25949020594968 is missing from the cache.\n",
      "\u001b[33m\u001b[1m│ \u001b[22m\u001b[39mThis may mean HarfBuzz_jll [2e76f6c2-a576-52d4-95c1-20adfe4de566] does not support precompilation but is imported by a module that does.\n",
      "\u001b[33m\u001b[1m└ \u001b[22m\u001b[39m\u001b[90m@ Base loading.jl:1107\u001b[39m\n",
      "\u001b[33m\u001b[1m┌ \u001b[22m\u001b[39m\u001b[33m\u001b[1mWarning: \u001b[22m\u001b[39mModule HarfBuzz_jll with build ID 25949020594968 is missing from the cache.\n",
      "\u001b[33m\u001b[1m│ \u001b[22m\u001b[39mThis may mean HarfBuzz_jll [2e76f6c2-a576-52d4-95c1-20adfe4de566] does not support precompilation but is imported by a module that does.\n",
      "\u001b[33m\u001b[1m└ \u001b[22m\u001b[39m\u001b[90m@ Base loading.jl:1107\u001b[39m\n",
      "\u001b[33m\u001b[1m┌ \u001b[22m\u001b[39m\u001b[33m\u001b[1mWarning: \u001b[22m\u001b[39mModule HarfBuzz_jll with build ID 25949020594968 is missing from the cache.\n",
      "\u001b[33m\u001b[1m│ \u001b[22m\u001b[39mThis may mean HarfBuzz_jll [2e76f6c2-a576-52d4-95c1-20adfe4de566] does not support precompilation but is imported by a module that does.\n",
      "\u001b[33m\u001b[1m└ \u001b[22m\u001b[39m\u001b[90m@ Base loading.jl:1107\u001b[39m\n",
      "\u001b[33m\u001b[1m┌ \u001b[22m\u001b[39m\u001b[33m\u001b[1mWarning: \u001b[22m\u001b[39mModule HarfBuzz_jll with build ID 25949020594968 is missing from the cache.\n",
      "\u001b[33m\u001b[1m│ \u001b[22m\u001b[39mThis may mean HarfBuzz_jll [2e76f6c2-a576-52d4-95c1-20adfe4de566] does not support precompilation but is imported by a module that does.\n",
      "\u001b[33m\u001b[1m└ \u001b[22m\u001b[39m\u001b[90m@ Base loading.jl:1107\u001b[39m\n",
      "\u001b[36m\u001b[1m[ \u001b[22m\u001b[39m\u001b[36m\u001b[1mInfo: \u001b[22m\u001b[39mSkipping precompilation since __precompile__(false). Importing ProfileView [c46f51b8-102a-5cf2-8d2c-8597cb0e0da7].\n",
      "\u001b[36m\u001b[1m[ \u001b[22m\u001b[39m\u001b[36m\u001b[1mInfo: \u001b[22m\u001b[39mPrecompiling Gtk [4c0ca9eb-093a-5379-98c5-f87ac0bbbf44]\n",
      "\u001b[33m\u001b[1m┌ \u001b[22m\u001b[39m\u001b[33m\u001b[1mWarning: \u001b[22m\u001b[39mModule HarfBuzz_jll with build ID 25949020594968 is missing from the cache.\n",
      "\u001b[33m\u001b[1m│ \u001b[22m\u001b[39mThis may mean HarfBuzz_jll [2e76f6c2-a576-52d4-95c1-20adfe4de566] does not support precompilation but is imported by a module that does.\n",
      "\u001b[33m\u001b[1m└ \u001b[22m\u001b[39m\u001b[90m@ Base loading.jl:1107\u001b[39m\n",
      "\u001b[33m\u001b[1m┌ \u001b[22m\u001b[39m\u001b[33m\u001b[1mWarning: \u001b[22m\u001b[39mModule HarfBuzz_jll with build ID 25949020594968 is missing from the cache.\n",
      "\u001b[33m\u001b[1m│ \u001b[22m\u001b[39mThis may mean HarfBuzz_jll [2e76f6c2-a576-52d4-95c1-20adfe4de566] does not support precompilation but is imported by a module that does.\n",
      "\u001b[33m\u001b[1m└ \u001b[22m\u001b[39m\u001b[90m@ Base loading.jl:1107\u001b[39m\n",
      "\u001b[33m\u001b[1m┌ \u001b[22m\u001b[39m\u001b[33m\u001b[1mWarning: \u001b[22m\u001b[39mModule HarfBuzz_jll with build ID 25949020594968 is missing from the cache.\n",
      "\u001b[33m\u001b[1m│ \u001b[22m\u001b[39mThis may mean HarfBuzz_jll [2e76f6c2-a576-52d4-95c1-20adfe4de566] does not support precompilation but is imported by a module that does.\n",
      "\u001b[33m\u001b[1m└ \u001b[22m\u001b[39m\u001b[90m@ Base loading.jl:1107\u001b[39m\n",
      "\u001b[33m\u001b[1m┌ \u001b[22m\u001b[39m\u001b[33m\u001b[1mWarning: \u001b[22m\u001b[39mModule HarfBuzz_jll with build ID 25949020594968 is missing from the cache.\n",
      "\u001b[33m\u001b[1m│ \u001b[22m\u001b[39mThis may mean HarfBuzz_jll [2e76f6c2-a576-52d4-95c1-20adfe4de566] does not support precompilation but is imported by a module that does.\n",
      "\u001b[33m\u001b[1m└ \u001b[22m\u001b[39m\u001b[90m@ Base loading.jl:1107\u001b[39m\n",
      "\u001b[36m\u001b[1m[ \u001b[22m\u001b[39m\u001b[36m\u001b[1mInfo: \u001b[22m\u001b[39mSkipping precompilation since __precompile__(false). Importing Gtk [4c0ca9eb-093a-5379-98c5-f87ac0bbbf44].\n",
      "\u001b[36m\u001b[1m[ \u001b[22m\u001b[39m\u001b[36m\u001b[1mInfo: \u001b[22m\u001b[39mPrecompiling GTK3_jll [77ec8976-b24b-556a-a1bf-49a033a670a6]\n",
      "\u001b[33m\u001b[1m┌ \u001b[22m\u001b[39m\u001b[33m\u001b[1mWarning: \u001b[22m\u001b[39mModule HarfBuzz_jll with build ID 25949020594968 is missing from the cache.\n",
      "\u001b[33m\u001b[1m│ \u001b[22m\u001b[39mThis may mean HarfBuzz_jll [2e76f6c2-a576-52d4-95c1-20adfe4de566] does not support precompilation but is imported by a module that does.\n",
      "\u001b[33m\u001b[1m└ \u001b[22m\u001b[39m\u001b[90m@ Base loading.jl:1107\u001b[39m\n",
      "\u001b[33m\u001b[1m┌ \u001b[22m\u001b[39m\u001b[33m\u001b[1mWarning: \u001b[22m\u001b[39mModule HarfBuzz_jll with build ID 25949020594968 is missing from the cache.\n",
      "\u001b[33m\u001b[1m│ \u001b[22m\u001b[39mThis may mean HarfBuzz_jll [2e76f6c2-a576-52d4-95c1-20adfe4de566] does not support precompilation but is imported by a module that does.\n",
      "\u001b[33m\u001b[1m└ \u001b[22m\u001b[39m\u001b[90m@ Base loading.jl:1107\u001b[39m\n",
      "\u001b[36m\u001b[1m[ \u001b[22m\u001b[39m\u001b[36m\u001b[1mInfo: \u001b[22m\u001b[39mSkipping precompilation since __precompile__(false). Importing GTK3_jll [77ec8976-b24b-556a-a1bf-49a033a670a6].\n",
      "\u001b[36m\u001b[1m[ \u001b[22m\u001b[39m\u001b[36m\u001b[1mInfo: \u001b[22m\u001b[39mPrecompiling Pango_jll [36c8627f-9965-5494-a995-c6b170f724f3]\n",
      "\u001b[33m\u001b[1m┌ \u001b[22m\u001b[39m\u001b[33m\u001b[1mWarning: \u001b[22m\u001b[39mModule HarfBuzz_jll with build ID 25949020594968 is missing from the cache.\n",
      "\u001b[33m\u001b[1m│ \u001b[22m\u001b[39mThis may mean HarfBuzz_jll [2e76f6c2-a576-52d4-95c1-20adfe4de566] does not support precompilation but is imported by a module that does.\n",
      "\u001b[33m\u001b[1m└ \u001b[22m\u001b[39m\u001b[90m@ Base loading.jl:1107\u001b[39m\n",
      "\u001b[36m\u001b[1m[ \u001b[22m\u001b[39m\u001b[36m\u001b[1mInfo: \u001b[22m\u001b[39mSkipping precompilation since __precompile__(false). Importing Pango_jll [36c8627f-9965-5494-a995-c6b170f724f3].\n",
      "\u001b[36m\u001b[1m[ \u001b[22m\u001b[39m\u001b[36m\u001b[1mInfo: \u001b[22m\u001b[39mPrecompiling Librsvg_jll [925c91fb-5dd6-59dd-8e8c-345e74382d89]\n",
      "\u001b[33m\u001b[1m┌ \u001b[22m\u001b[39m\u001b[33m\u001b[1mWarning: \u001b[22m\u001b[39mModule Pango_jll with build ID 78472730000411 is missing from the cache.\n",
      "\u001b[33m\u001b[1m│ \u001b[22m\u001b[39mThis may mean Pango_jll [36c8627f-9965-5494-a995-c6b170f724f3] does not support precompilation but is imported by a module that does.\n",
      "\u001b[33m\u001b[1m└ \u001b[22m\u001b[39m\u001b[90m@ Base loading.jl:1107\u001b[39m\n",
      "\u001b[36m\u001b[1m[ \u001b[22m\u001b[39m\u001b[36m\u001b[1mInfo: \u001b[22m\u001b[39mSkipping precompilation since __precompile__(false). Importing Librsvg_jll [925c91fb-5dd6-59dd-8e8c-345e74382d89].\n",
      "\u001b[36m\u001b[1m[ \u001b[22m\u001b[39m\u001b[36m\u001b[1mInfo: \u001b[22m\u001b[39mPrecompiling Cairo [159f3aea-2a34-519c-b102-8c37f9878175]\n",
      "\u001b[33m\u001b[1m┌ \u001b[22m\u001b[39m\u001b[33m\u001b[1mWarning: \u001b[22m\u001b[39mModule Pango_jll with build ID 78472730000411 is missing from the cache.\n",
      "\u001b[33m\u001b[1m│ \u001b[22m\u001b[39mThis may mean Pango_jll [36c8627f-9965-5494-a995-c6b170f724f3] does not support precompilation but is imported by a module that does.\n",
      "\u001b[33m\u001b[1m└ \u001b[22m\u001b[39m\u001b[90m@ Base loading.jl:1107\u001b[39m\n",
      "\u001b[36m\u001b[1m[ \u001b[22m\u001b[39m\u001b[36m\u001b[1mInfo: \u001b[22m\u001b[39mSkipping precompilation since __precompile__(false). Importing Cairo [159f3aea-2a34-519c-b102-8c37f9878175].\n",
      "Gtk-Message: 08:16:44.480: Failed to load module \"canberra-gtk-module\"\n",
      "Gtk-Message: 08:16:44.481: Failed to load module \"canberra-gtk-module\"\n",
      "\u001b[36m\u001b[1m[ \u001b[22m\u001b[39m\u001b[36m\u001b[1mInfo: \u001b[22m\u001b[39mPrecompiling GtkObservables [8710efd8-4ad6-11eb-33ea-2d5ceb25a41c]\n",
      "\u001b[33m\u001b[1m┌ \u001b[22m\u001b[39m\u001b[33m\u001b[1mWarning: \u001b[22m\u001b[39mModule Gtk with build ID 78470210703287 is missing from the cache.\n",
      "\u001b[33m\u001b[1m│ \u001b[22m\u001b[39mThis may mean Gtk [4c0ca9eb-093a-5379-98c5-f87ac0bbbf44] does not support precompilation but is imported by a module that does.\n",
      "\u001b[33m\u001b[1m└ \u001b[22m\u001b[39m\u001b[90m@ Base loading.jl:1107\u001b[39m\n",
      "\u001b[36m\u001b[1m[ \u001b[22m\u001b[39m\u001b[36m\u001b[1mInfo: \u001b[22m\u001b[39mSkipping precompilation since __precompile__(false). Importing GtkObservables [8710efd8-4ad6-11eb-33ea-2d5ceb25a41c].\n"
     ]
    }
   ],
   "source": [
    "using Plots\n",
    "using Colors\n",
    "using Images\n",
    "using ProfileView\n",
    "\n",
    "using DelaunayTriangulation"
   ]
  },
  {
   "cell_type": "code",
   "execution_count": 3,
   "id": "9e7f2c92",
   "metadata": {
    "scrolled": true
   },
   "outputs": [
    {
     "name": "stderr",
     "output_type": "stream",
     "text": [
      "WARNING: using DelaunayTriangulation.get_vertices in module Maze conflicts with an existing identifier.\n",
      "WARNING: using DelaunayTriangulation.get_neighbours in module Maze conflicts with an existing identifier.\n",
      "\u001b[33m\u001b[1m┌ \u001b[22m\u001b[39m\u001b[33m\u001b[1mWarning: \u001b[22m\u001b[39mReplacing docs for `Main.Maze.DictGraph :: Union{}` in module `Main.Maze`\n",
      "\u001b[33m\u001b[1m└ \u001b[22m\u001b[39m\u001b[90m@ Base.Docs docs/Docs.jl:240\u001b[39m\n",
      "\u001b[33m\u001b[1m┌ \u001b[22m\u001b[39m\u001b[33m\u001b[1mWarning: \u001b[22m\u001b[39mReplacing docs for `Main.Maze.DictGraph :: Union{Tuple{}, Tuple{T}} where T` in module `Main.Maze`\n",
      "\u001b[33m\u001b[1m└ \u001b[22m\u001b[39m\u001b[90m@ Base.Docs docs/Docs.jl:240\u001b[39m\n",
      "\u001b[33m\u001b[1m┌ \u001b[22m\u001b[39m\u001b[33m\u001b[1mWarning: \u001b[22m\u001b[39mReplacing docs for `Base.push! :: Union{Tuple{T}, Tuple{Main.Maze.DictGraph{T}, T, T}} where T` in module `Main.Maze`\n",
      "\u001b[33m\u001b[1m└ \u001b[22m\u001b[39m\u001b[90m@ Base.Docs docs/Docs.jl:240\u001b[39m\n",
      "\u001b[33m\u001b[1m┌ \u001b[22m\u001b[39m\u001b[33m\u001b[1mWarning: \u001b[22m\u001b[39mReplacing docs for `Main.Maze.get_vertices :: Union{Tuple{Main.Maze.DictGraph{T}}, Tuple{T}} where T` in module `Main.Maze`\n",
      "\u001b[33m\u001b[1m└ \u001b[22m\u001b[39m\u001b[90m@ Base.Docs docs/Docs.jl:240\u001b[39m\n",
      "\u001b[33m\u001b[1m┌ \u001b[22m\u001b[39m\u001b[33m\u001b[1mWarning: \u001b[22m\u001b[39mReplacing docs for `Main.Maze.get_neighbours :: Union{Tuple{T}, Tuple{Main.Maze.DictGraph{T}, T}} where T` in module `Main.Maze`\n",
      "\u001b[33m\u001b[1m└ \u001b[22m\u001b[39m\u001b[90m@ Base.Docs docs/Docs.jl:240\u001b[39m\n",
      "\u001b[33m\u001b[1m┌ \u001b[22m\u001b[39m\u001b[33m\u001b[1mWarning: \u001b[22m\u001b[39mReplacing docs for `Main.Maze.decompose_graph :: Tuple{Main.Maze.Graph}` in module `Main.Maze`\n",
      "\u001b[33m\u001b[1m└ \u001b[22m\u001b[39m\u001b[90m@ Base.Docs docs/Docs.jl:240\u001b[39m\n",
      "\u001b[33m\u001b[1m┌ \u001b[22m\u001b[39m\u001b[33m\u001b[1mWarning: \u001b[22m\u001b[39mReplacing docs for `Main.Maze.get_connected_components :: Union{Tuple{Main.Maze.Graph{T}}, Tuple{T}} where T` in module `Main.Maze`\n",
      "\u001b[33m\u001b[1m└ \u001b[22m\u001b[39m\u001b[90m@ Base.Docs docs/Docs.jl:240\u001b[39m\n",
      "\u001b[33m\u001b[1m┌ \u001b[22m\u001b[39m\u001b[33m\u001b[1mWarning: \u001b[22m\u001b[39mReplacing docs for `Main.Maze.TriGraph :: Union{}` in module `Main.Maze`\n",
      "\u001b[33m\u001b[1m└ \u001b[22m\u001b[39m\u001b[90m@ Base.Docs docs/Docs.jl:240\u001b[39m\n",
      "\u001b[33m\u001b[1m┌ \u001b[22m\u001b[39m\u001b[33m\u001b[1mWarning: \u001b[22m\u001b[39mReplacing docs for `Main.Maze.TriGraph :: Union{Tuple{Matrix{Int}}, Tuple{Int}} where Int` in module `Main.Maze`\n",
      "\u001b[33m\u001b[1m└ \u001b[22m\u001b[39m\u001b[90m@ Base.Docs docs/Docs.jl:240\u001b[39m\n",
      "\u001b[33m\u001b[1m┌ \u001b[22m\u001b[39m\u001b[33m\u001b[1mWarning: \u001b[22m\u001b[39mReplacing docs for `Main.Maze.TriGraph :: Union{Tuple{Triangulation}, Tuple{T}} where T` in module `Main.Maze`\n",
      "\u001b[33m\u001b[1m└ \u001b[22m\u001b[39m\u001b[90m@ Base.Docs docs/Docs.jl:240\u001b[39m\n",
      "\u001b[33m\u001b[1m┌ \u001b[22m\u001b[39m\u001b[33m\u001b[1mWarning: \u001b[22m\u001b[39mReplacing docs for `Main.Maze.get_vertices :: Union{Tuple{Main.Maze.TriGraph{T}}, Tuple{T}} where T` in module `Main.Maze`\n",
      "\u001b[33m\u001b[1m└ \u001b[22m\u001b[39m\u001b[90m@ Base.Docs docs/Docs.jl:240\u001b[39m\n",
      "\u001b[33m\u001b[1m┌ \u001b[22m\u001b[39m\u001b[33m\u001b[1mWarning: \u001b[22m\u001b[39mReplacing docs for `Main.Maze.get_neighbours :: Union{Tuple{T}, Tuple{Main.Maze.TriGraph{T}, T}} where T` in module `Main.Maze`\n",
      "\u001b[33m\u001b[1m└ \u001b[22m\u001b[39m\u001b[90m@ Base.Docs docs/Docs.jl:240\u001b[39m\n",
      "\u001b[33m\u001b[1m┌ \u001b[22m\u001b[39m\u001b[33m\u001b[1mWarning: \u001b[22m\u001b[39mReplacing docs for `Main.Maze.create_triangle_graph :: Tuple{Triangulation}` in module `Main.Maze`\n",
      "\u001b[33m\u001b[1m└ \u001b[22m\u001b[39m\u001b[90m@ Base.Docs docs/Docs.jl:240\u001b[39m\n"
     ]
    },
    {
     "data": {
      "text/plain": [
       "Main.Maze"
      ]
     },
     "execution_count": 3,
     "metadata": {},
     "output_type": "execute_result"
    }
   ],
   "source": [
    "include(\"/home/bhornung/repos/maze/Maze.jl/src/Maze.jl\")"
   ]
  },
  {
   "cell_type": "code",
   "execution_count": 4,
   "id": "464d2bb5",
   "metadata": {},
   "outputs": [],
   "source": [
    "using .Maze"
   ]
  },
  {
   "cell_type": "markdown",
   "id": "c0dd499f",
   "metadata": {},
   "source": [
    "# Mazes -- Part I.: Background\n",
    "\n",
    "## Introduction\n",
    "\n",
    "This post provides a definition of mazes and proposes a high level approach to create them. This approach will then be utilised to create two maze images.\n",
    "\n",
    "## Goal definition\n",
    "\n",
    "Let us first define what the _desideratum_ is. We would like to _have_ maze images akin to those in Figure 1. There is a rather short sequence of actions to achieve it: print this page off. Then we have one. The issues arise if we wish to posses images that are slightly different in colour, shape, style. Neither of which is changable _via_ the said method.\n",
    "\n",
    "The goal thus needs rewording. We wish to have maze images of specification of our choice. Alas, there is no method to obtain the desired images as trivial as the the previous one. The only way out seemingly is to create our own utility that produces maze images. Let us restate the goal once more. More importantly, even before starting, we should justify why we choose a certain set of actions, and the effort completing it. It is of paramount importance to recognise that discourse is now about actions not objects.\n",
    "\n",
    "Task statement\n",
    "1. Deliverable: program that creates maze images to given specification\n",
    "1. How to achieve it? Write one.\n",
    "2. Justification\n",
    "    * we would like to have a variety of maze images (sufficient, isn't it?)\n",
    "    * the components of the program can be reused in other utilities\n",
    "    * there are no available resources (or they are not flexible enough, incompatible with our tech stack)\n",
    "    \n",
    "## Maze definition\n",
    "\n",
    "The right level of abstraction helps writing reusable code or, even better, utilise units of code that have already been created. _right_ is just as enlightening word as _have_ was. In other terms, it is not especially helpful. By the term _right level of abstraction_ it is meant that the code is applicable to more than just a specific problem, data structure etc. The implementation, on the other hand, is not left blank.\n",
    "\n",
    "One way to abstract a problem is to identify the common elements across its various instances. The first observation that both panels of Figure 1. contains regions from which it is possible to move to one or more neighbouring one. These regions are either squares (left panel) or pixels or polygons (right panel). There are too neighbouring regions to which it is impossible step (black squares (left panel) and back lines(right panel)).\n",
    "\n",
    "Three statemets are made based on these observations that define what a maze is.\n",
    "\n",
    "1. Let $\\mathcal{S}$ a nonempty set of objects. (pixels, regions, etc)\n",
    "$$\n",
    "    \\mathcal{S} \\neq \\emptyset\n",
    "$$\n",
    "2. The neighbours of an element of $\\mathcal{S}$ is denoted by $\\mathcal{N}(s)$\n",
    "$$\n",
    "    ! s \\in \\mathcal{N} \\\\\n",
    "    \\mathcal{N}(s) \\subseteq \\mathcal{S}\\setminus \\{s\\}\n",
    "$$\n",
    "\n",
    "What exactly makes an element a neighbour of an other is irrelevant at this stage. We just formalised the fact that some points are sorrounded by other points irrespective wheter it is possible to move to them.\n",
    "\n",
    "3. The linked set of an element, $s$ is denoted by $\\mathcal{L}(s)$\n",
    "\n",
    "$$\n",
    "    ! s \\in \\mathcal{S} \\\\\n",
    "    \\mathcal{L}(s) \\subseteq \\mathcal{N}(s)\n",
    "$$\n",
    "\n",
    "Again, it is not of our conerns which neighbours are linked. We only stated how these elements may exist.\n",
    "\n",
    "These three statements above define what a maze is. It is a collection elements and movement may be allowed between neighbouring elements. This definition is also remarkably useless as far as implementation goes. Idealy, a definition would hint at data structures or classes of algorithms that could guide the developer to create the actual piece of software component.\n",
    "\n",
    "With little effort, the definitions can be transformed in to a more conducive one.\n",
    "1. Collect all the pairs of elements that are neighbours.\n",
    "$$\n",
    "    \\mathcal{N} = \\bigcup\\limits_{s \\in \\mathcal{S}} \\{(s, t): t \\in \\mathcal{N}(s) \\} \\subseteq \\mathcal{S} \\times \\mathcal{S}\n",
    "$$\n",
    "\n",
    "If $\\mathcal{S}$ is considered to be vertices then $\\mathcal{N}$ is the set of edges. $(\\mathcal{S}, \\mathcal{N})$ is thus a graph on which the possible reachable pairs can be drawn. This graph will be termed as pre-maze.\n",
    "\n",
    "2. Collect all edges that are links\n",
    "$$\n",
    "    \\mathcal{L} = \\bigcup\\limits_{s \\in \\mathcal{S}} \\{(s, t): t \\in \\mathcal{L}(s) \\}\n",
    "    \\subseteq \\mathcal{N} \\subseteq \\mathcal{S} \\times \\mathcal{S}\n",
    "$$\n",
    "The set $\\mathcal(L)$ will be called links.\n",
    "\n",
    "A maze, $M$ is the triplet of vertices, all edges and links:\n",
    "$$\n",
    "    M = (\\mathcal{S}, \\mathcal{N}, \\mathcal{L}) \\, .\n",
    "$$\n",
    "\n",
    "Remarks\n",
    "* The $\\mathcal{W} = \\mathcal{N} \\setminus \\mathcal{L}$ is called the walls.\n",
    "* If we only concern ourselfs with traversing the maze the tuple $(\\mathcal{S}, \\mathcal{L})$ contains sufficient information. The neighbours are retained for specific purposes, such as drawing.\n",
    "\n",
    "In summary, we established that a maze can be represented by graphs. This enables us to use graph algorithms to create mazes. Yet it is abstract enough that we need not care about what the elements are.\n",
    "\n",
    "## Making mazes\n",
    "\n",
    "The creation of a maze image consists of the following actions\n",
    "\n",
    "1. get the specifications (and discuss it!)\n",
    "1. define the set of maze objects that would fulfill the specs to the greatest extent\n",
    "1. define the pre-maze keeping the specs in mind\n",
    "1. apply an algorithm that creates the links\n",
    "1. visualise the maze\n",
    "\n",
    "My very limited experice confirms that (4.) takes the least amount of resources. Points (2.) and (3.) is where the bulk of the effort is spent. (5.) can sometimes be tedious and it is best to tackle it with experts.\n",
    "\n",
    "## Specifications\n",
    "\n",
    "Two properties of the mazes will be required\n",
    "1. there must exist a path between all pairs of vertices\n",
    "1. there must not be cycles of vertices\n",
    "\n",
    "These are more aesthetic requirements than anything else. The first one is to make sure that a line drawn on the maze will traverses its entire area. The second one is to ensure that always the shortest possible line is drawn between two vertices.\n",
    "\n",
    "## Link generation\n",
    "\n",
    "Let us assume that we finally have a pre-maze at hand. The specifications dictates us to invoke a graph algorithm that traverses the entire graph reaching each vertex only once. The options are plentiful:\n",
    "* breadth-first search: tends to create river system-like paths\n",
    "* depth-first search: tends to result in pine-like paths\n",
    "* your favourite (minimum) spanning tree algorithm, preferably Kruskal's algorithm to avoid elongated paths\n",
    "* loop-erased random walk.\n",
    "\n",
    "#### Loop erased random walk\n",
    "\n",
    "We choose the loop erased random walk to create the linkage set. It is expensive due to the moves wasted in loops which are then deleted, but it produces the best looking graphs."
   ]
  },
  {
   "cell_type": "markdown",
   "id": "ddcc42d8",
   "metadata": {},
   "source": [
    "##### Algorithm\n",
    "\n",
    "The algorithm in rather simple. Cyle free paths starting from vertices not in the maze are sequentially grown. Once the latest vertex in path is reaches maze the path is attached to it. This is repeated until all the vertices are in the maze. It is constructive to write out the alogrithm in more detail for it guides us implementing it.\n",
    "\n",
    "$$\n",
    "\\begin{eqnarray}\n",
    "     &\\, &\\text{Algorithm } \\texttt{MakeLoopErasedRandomWalkLinkage} \\\\\n",
    "%\n",
    "     &\\,& \\textbf{Inputs: } (\\mathcal{S}, \\mathcal{N}) \n",
    "            & \\quad  \\text{(pre-maze)} \\\\\n",
    "%\n",
    "    &\\,& \\textbf{Output: } \\mathcal{L}\n",
    "        & \\quad \\text{(set of maze links)} \\\\\n",
    "%\n",
    "    &1.& \\mathcal{L} \\leftarrow \\emptyset \\\\\n",
    "%\n",
    "    &2.&   \\mathcal{M} \\leftarrow \\{s\\}: s \\in \\mathcal{S}  \n",
    "             &\\quad \\text{(pick a vertex as the first element in the maze)} \\\\\n",
    "    %\n",
    "    &3.&  \\textbf{while} \\, |\\mathcal{S} \\setminus\\mathcal{M}| \\neq 0 \n",
    "             & \\quad \\text{(until all vertices are in the maze)} \\\\\n",
    "    %\n",
    "    &4.&  \\quad \n",
    "            \\mathcal{P} \\leftarrow \\emptyset\n",
    "            & \\quad \\text{(path as an indexed set)} \\\\\n",
    "    %\n",
    "    &5.&  \\quad \n",
    "            s \\leftarrow \\texttt{Choose}(\\mathcal{S} \\setminus\\mathcal{M}) \n",
    "             & \\quad \\text{(choose a vertex which is not in the maze)} \\\\\n",
    "    %\n",
    "    &6.&  \\quad \n",
    "             \\textbf{while true} & \\\\\n",
    "    %\n",
    "    &7.&  \\quad \\quad \n",
    "                t \\leftarrow \\texttt{Choose}(\\mathcal{N}(s)) \n",
    "                 & \\quad \\text{(pick any neighbour)} \\\\\n",
    "    %\n",
    "    &8.&  \\quad \\quad \n",
    "                \\textbf{if } t \\in \\mathcal{M} \n",
    "                 & \\quad \\text{(neighbour is in the maze)} \\\\\n",
    "    %\n",
    "    &9.&  \\quad \\quad \\quad \n",
    "                    \\mathcal{P} \\leftarrow \\mathcal{P} \\cup  \\{t\\} \n",
    "                     & \\quad \\text{(add maze vertex to the path)} \\\\\n",
    "    %\n",
    "    &10.&  \\quad \\quad \\quad\n",
    "                    \\mathcal{L} \\leftarrow \\mathcal{L} \\cup \\{(p_{i}, p_{i+1}), i \\in [1, |\\mathcal{P}| - 1 ] \\} \n",
    "                     & \\quad \\text{(create and collate links)} \\\\\n",
    "    %\n",
    "    &11.&  \\quad \\quad \\quad \n",
    "                        \\mathcal{M} \\leftarrow \\mathcal{M} \\cup \\mathcal{P}\n",
    "                        & \\quad \\text{add vertices in the path to the maze} \\\\\n",
    "    %\n",
    "    &12.&   \\quad \\quad \\quad\n",
    "                        \\textbf{break} & \\\\\n",
    "    %\n",
    "    &13.&   \\quad \\quad \n",
    "                        \\textbf{end if} & \\\\\n",
    "    %\n",
    "    &14.&  \\quad \\quad \n",
    "                    \\textbf{if } t \\in \\mathcal{P}\n",
    "                     & \\quad \\text{(the path has a loop)} \\\\\n",
    "    %\n",
    "    &15.&  \\quad \\quad \\quad \n",
    "                            i \\leftarrow \\texttt{FindIndex}(\\mathcal{P}, t)\n",
    "                             & \\quad \\text{(find the start of the loop)} \\\\\n",
    "    %\n",
    "    &16.&  \\quad \\quad \\quad \n",
    "                            \\mathcal{P} \\leftarrow \\mathcal{P} \\setminus \\{p_{j}, j > i  \\}\n",
    "                             & \\quad \\text{(remove the vertices in the loop from the path)} \\\\\n",
    "    %\n",
    "    &17.&   \\quad \\quad \\quad \n",
    "                                \\textbf{continue} & \\\\\n",
    "    %\n",
    "    &18.&   \\quad \\quad\n",
    "                            \\textbf{end if}&  \\\\\n",
    "    %\n",
    "    &19.&  \\quad \\quad\n",
    "                            \\mathcal{P} \\leftarrow \\mathcal{P} \\cup {t} \n",
    "             & \\quad \\text{(append the neighbour to the path)} \\\\\n",
    "    %\n",
    "    &20.&  \\quad \\quad \n",
    "                s \\leftarrow t \n",
    "                            & \\quad \\text{(move forward)} \\\\\n",
    "    %\n",
    "    &21.&   \\quad\n",
    "                    \\textbf{end while}&  \\\\\n",
    "    %\n",
    "    &22.&   \\textbf{end while} & \\\\\n",
    "    %\n",
    "    &23.&   \\textbf{return } \\mathcal{L}&  \\\\\n",
    "\\end{eqnarray}\n",
    "$$"
   ]
  },
  {
   "cell_type": "markdown",
   "id": "b5f3d0dd",
   "metadata": {},
   "source": [
    "Notes,\n",
    "* function $\\texttt{Choose}$ returns a randomly chosen element of a collection\n",
    "* function $\\texttt{FindIndex}$ finds the index of an element in an indexed set"
   ]
  },
  {
   "cell_type": "markdown",
   "id": "2bdeb73a",
   "metadata": {},
   "source": [
    "##### Implementation\n",
    "\n",
    "The loop erased random walk algorithm is realised in the `make_loop_erased_random_walk_maze_links` function."
   ]
  },
  {
   "cell_type": "markdown",
   "id": "727f8c5c",
   "metadata": {},
   "source": [
    "```julia\n",
    "function make_loop_erased_random_walk_maze_links(graph::Graph{T}) where T\n",
    "    \n",
    "    # bookkeeping\n",
    "    statuses = Dict(vertex => 0 for vertex in get_vertices(graph))\n",
    "    n = length(statuses)\n",
    "    \n",
    "    # storage for edges\n",
    "    edges = zeros(T, (2, n - 1))\n",
    "    i_edge = 0\n",
    "    \n",
    "    path = zeros(T, n)\n",
    "    \n",
    "    # initialise maze\n",
    "    vertex, _ = pop!(statuses)\n",
    "    \n",
    "    # main traversing loop\n",
    "    while length(statuses) != 0\n",
    "        \n",
    "        # get a vertex which is not in the maze\n",
    "        vertex, _ = pop!(statuses)\n",
    "        path[1] = vertex\n",
    "        statuses[vertex] = -1\n",
    "        n_in_path = 1\n",
    "\n",
    "        # walk\n",
    "        while true\n",
    "            # select a neighbour\n",
    "            neighbours = get_neighbours(graph, vertex)     \n",
    "            vertex_next = rand(neighbours)\n",
    "           \n",
    "            # option i) loop detected\n",
    "            if (i_loop_start = get(statuses, vertex_next, 0)) < 0\n",
    "\n",
    "                # convert flag to index in the path\n",
    "                i_loop_start = - i_loop_start\n",
    "                \n",
    "                # reset statuses from the 2nd element of the loop\n",
    "                for i in i_loop_start + 1:n_in_path\n",
    "                    statuses[path[i]] = 0\n",
    "                    path[i] = 0\n",
    "                end\n",
    "\n",
    "                # truncate path until the 1st element of the loop\n",
    "                n_in_path = i_loop_start\n",
    "\n",
    "                # set 1st loop element as the current vertex and\n",
    "                # continue the path from there\n",
    "                vertex = path[n_in_path]\n",
    "                continue\n",
    "            end\n",
    "            \n",
    "            # option ii) neighbour is already in the maze -> add path to maze\n",
    "            if get(statuses, vertex_next, 1) == 1\n",
    "                for i in 1:n_in_path - 1\n",
    "                    \n",
    "                    # add edges to the maze\n",
    "                    source, target = path[i], path[i + 1]\n",
    "                    edges[1, i_edge += 1] = source\n",
    "                    edges[2, i_edge] = target\n",
    "\n",
    "                    # bookkeeping\n",
    "                    delete!(statuses, source)\n",
    "                end\n",
    "                # add last edge\n",
    "                source = path[n_in_path]\n",
    "                edges[1, i_edge += 1] = source\n",
    "                edges[2, i_edge] = vertex_next\n",
    "\n",
    "                # delete last vertex in path\n",
    "                delete!(statuses, source)\n",
    "                # finish path and go to get a new starting verex\n",
    "                break\n",
    "            end\n",
    "            \n",
    "            # option iii) vertex not in path or maze\n",
    "            vertex = vertex_next\n",
    "            path[n_in_path += 1] = vertex\n",
    "            statuses[vertex] = - n_in_path\n",
    "\n",
    "        end\n",
    "    end\n",
    "    # order the vertices of the links\n",
    "    edges = sort!(edges, dims=1)\n",
    "\n",
    "    return edges\n",
    "    \n",
    "end\n",
    "```"
   ]
  },
  {
   "cell_type": "markdown",
   "id": "d5ad4e68",
   "metadata": {},
   "source": [
    "A handful of remarks on the implementation are in order.\n",
    "* A graph is the input.\n",
    "* The output is the links, the set of edges which define the possible moves in the maze.\n",
    "* The graph must be connected. It is not possible to link up all of the vertices otherwise.\n",
    "* The vertices of the graph must be hashable. Other than that, they can be anything.\n",
    "* The `get_vertices` function creates an array of the vertices of the graph.\n",
    "* The `get_neighbours` function returns the neighbours of a vertex in the input graph.\n",
    "* The exact implementation of these functions depends on the type of the input graph. The random walk algorithm itself is concerned not how these goals are achieved. It only requires a certain behaviour of the functions. By doing so, the algorithm is not tied to a specific data structure. On the other hand, having these to two functions implemented is the bare minimum what can be expected from any graph code suite.\n",
    "* The crux of implementation is the `statuses` hash map.\n",
    "    * The keys are the vertices which are not linked to the maze yet.\n",
    "    * If the vertex is in a path being grown its value is minus its position in the path. This is to find loop erasure points in $O(1)$ time.\n",
    "    * If a vertex is not in the path being grown its value is zero.\n",
    "    * If a vertex is in the maze the default value of unit is returned from the map."
   ]
  },
  {
   "cell_type": "markdown",
   "id": "a52ab05b",
   "metadata": {},
   "source": [
    "## Example 1.: Square maze\n",
    "\n",
    "### 1. Specifications\n",
    "\n",
    "We set out to create a maze akin to the left panel of Figure 1. The vertices of the maze are the points of a reactangular grid.\n",
    "\n",
    "### 2. Objects\n",
    "\n",
    "The elementary geometric object of the square maze is a square which are arranged in a grid. This grid implemented as the `RectangleGraph` structure. It only containts the number of rows, columns and vertices of the grid across which the maze spans. It is a subtype of the `Graph` structure whose role is to ensure type consistency. "
   ]
  },
  {
   "cell_type": "markdown",
   "id": "da00269b",
   "metadata": {},
   "source": [
    "```python \n",
    "abstract type Graph{T} end\n",
    " \n",
    " struct RectangleGraph{Int} <:Graph{Int}\n",
    "     n_rows::Int\n",
    "     n_colums::Int\n",
    "     n_vertex::Int\n",
    " end\n",
    " RectangleGraph(n_rows::Int, n_columns::Int) = RectangleGraph(n_rows, n_columns, n_rows * n_columns)\n",
    "```"
   ]
  },
  {
   "cell_type": "markdown",
   "id": "5160e919",
   "metadata": {},
   "source": [
    "### 3. Pre-maze\n",
    "\n",
    "The pre-maze is only defined implicitly. The `get_neighbours` function determines the indices of gridpoints (vertices) in the 4-connectivity neighbourhood of a given vertex. Alternatively, these the neighbours could be precomputed and stored. Since they can be calculated cheaply, they are generated on demand as opposed using up space for storage."
   ]
  },
  {
   "cell_type": "code",
   "execution_count": 5,
   "id": "e7e90029",
   "metadata": {},
   "outputs": [
    {
     "data": {
      "text/plain": [
       "RectangleGraph{Int64}(80, 80, 6400)"
      ]
     },
     "execution_count": 5,
     "metadata": {},
     "output_type": "execute_result"
    }
   ],
   "source": [
    "pre_maze_rectangle = RectangleGraph(80, 80)"
   ]
  },
  {
   "cell_type": "markdown",
   "id": "8c584f10",
   "metadata": {},
   "source": [
    "### 4. Generation of the links\n",
    "\n",
    "The random walk algorithm is called on the pre-maze yielding the set of links. Each link is a coordinate pair of grid points."
   ]
  },
  {
   "cell_type": "code",
   "execution_count": 6,
   "id": "0cfa4408",
   "metadata": {},
   "outputs": [
    {
     "data": {
      "text/plain": [
       "2×6399 Matrix{Int64}:\n",
       " 4699  4698  4697  4697  4777  4856  …  6097  3028  887  3847  4159  5416\n",
       " 4700  4699  4698  4777  4857  4857     6177  3029  888  3848  4160  5496"
      ]
     },
     "execution_count": 6,
     "metadata": {},
     "output_type": "execute_result"
    }
   ],
   "source": [
    "links_rectangle = make_loop_erased_random_walk_maze_links(pre_maze_rectangle)"
   ]
  },
  {
   "cell_type": "markdown",
   "id": "c86c4278",
   "metadata": {},
   "source": [
    "### 5. Drawing\n",
    "\n",
    "The drawing consists of two steps. The abstract maze is transformed to a set of geometrical object. This set is then rendered.\n",
    "\n",
    "#### 5.1. Transforming to geometrical objects\n",
    "\n",
    "Each vertex and edge is represented by a square. This means the following transformations\n",
    "* vertices: \n",
    "    * $i \\rightarrow (i_{col}, i_{row})$ (convert vertex indices to grid coordinates)\n",
    "    * $(i_{col}, i_{row}) \\rightarrow (2 i_{col}, 2 i_{row})$ (make space for the edges)\n",
    "* edges:\n",
    "    * $(i, j) \\rightarrow ((i_{col}, i_{row}), (j_{col}, j_{row}))$ (convert vertex indices to grid coordinates)\n",
    "    * $((i_{col}, i_{row}), (j_{col}, j_{row})) \\rightarrow (i_{row} + j_{row}, i_{col} + j_{col})$ (calculate edge square coordinates)\n",
    "\n",
    "This is done by the `convert_links_to_points_rectangle` function. It outputs the grid coordinates of those squares which correspond to vertices or links. Strictly speaking, the shapes to be drawn need not to be squares."
   ]
  },
  {
   "cell_type": "code",
   "execution_count": 7,
   "id": "30bfb540",
   "metadata": {},
   "outputs": [],
   "source": [
    "x, y = convert_links_to_points_rectangle(\n",
    "    links_rectangle,\n",
    "    pre_maze_rectangle.n_row,\n",
    "    pre_maze_rectangle.n_column\n",
    ")\n",
    "nothing"
   ]
  },
  {
   "cell_type": "markdown",
   "id": "d82ebaf7",
   "metadata": {},
   "source": [
    "#### 5.2. Rendering\n",
    "\n",
    "The `create_maze_bitmap_rectangle` makes a 2D bitmap of greyscale colours using the previously computed coordinates. The vertices and the links are rendered as white squares. The walls will show up as black squares. Each of them is the most tastefully separated from its neighbours by gray borders."
   ]
  },
  {
   "cell_type": "code",
   "execution_count": 8,
   "id": "ec0c8d8c",
   "metadata": {
    "scrolled": true
   },
   "outputs": [],
   "source": [
    "img = create_maze_bitmap_rectangle(\n",
    "    x, y,\n",
    "    pre_maze_rectangle.n_row,\n",
    "    pre_maze_rectangle.n_column, 5, 1\n",
    ")\n",
    "\n",
    "save(\"/home/bhornung/Desktop/maze-square-style.png\", colorview(Gray, img ./1.0))"
   ]
  },
  {
   "cell_type": "markdown",
   "id": "06d98f5a",
   "metadata": {},
   "source": [
    "## Example 2: Deluanay maze"
   ]
  },
  {
   "cell_type": "markdown",
   "id": "cd4088f4",
   "metadata": {},
   "source": [
    "### 1. Specification\n",
    "\n",
    "We wish to create a graph where the paths are in the forms connected polygons.\n",
    "\n",
    "### 2. Object\n",
    "\n",
    "The objects are adjacent triangles which have two vertices in common. The removal of some of the shared side leads to the desired polygon effect. The `TriGraph` structure encapsulates all pieces of information that span the pre-maze.\n",
    "* `graph` is be the graph of the adjacent triangles\n",
    "* `mapping` is a bijection between the index pairs of the adjoining triangles and the indices of points of the side along which they are connected\n",
    "* `tri` is a triangulation object from which the previous are derived. It is retained in the structure for it is needed for the drawing.\n",
    "\n",
    "```julia\n",
    "struct TriGraph{T} <: Graph{T}\n",
    "    \"`graph::Dict{T, Array{T, 1}}` triangle connectivity\"\n",
    "    graph::Dict{T, Array{T, 1}}\n",
    "    \"`mapping::Dict{Tuple{Int, Int}, Tuple{T, T}}` triangle-pair--side mapping\"\n",
    "    mapping::Dict{Tuple{Int, Int}, Tuple{T, T}}\n",
    "    \"`tri::DelaunayTriangulation.Triangulation`: triangulation\"\n",
    "    tri::DelaunayTriangulation.Triangulation\n",
    "end\n",
    "```\n",
    "\n",
    "### 3. Pre-maze\n",
    "\n",
    "The bulk of the effort, again, is consumed by creating the pre-maze.\n",
    "Naively, a Delaunay triangulation of any randomly sampled points in two dimensions would be sufficient. This, however, may lead to triangles that are too small to be rendered correctly at the available resolution. I.e. some paths may appear as closed if the line width is comparable to distance between the points whose connecting edge is removed.\n",
    "\n",
    "#### 3.1 Sampling of points\n",
    "\n",
    "It thus required that all distances are greater than a certain limit, $\\rho$ in order to avoid generating small triangles. This implies that a cirle of radius $\\rho / 2$ centred on each point cannot contain other points. In other words, the points are replaced by circles. We are thus tasked with placing circles in an area which is the sphere packing problem.\n",
    "\n",
    "There is a plethora of exact and approximate solutions to this problem. The former ones fall in two broad categories\n",
    "* physical methods: the speres are considered to be particles which are propagated according to certain laws of motion\n",
    "* mathematical: mathematical constructs are utilised to obtain the set of suitably positioned spheres\n",
    "\n",
    "Randomised sampling belongs to the second group. This, yet again, separates in two groups\n",
    "* bottom-up: the points are incrementally added. Each time a point that is far enough from all of the previous points. Rejection sampling is the phrase that springs up in one's mind and it is immediately discarded in this post. Due to the restricted amount time that is available to the author os these lines, an approach is chosen which relies on static data structures.\n",
    "* top-down: a set of random points is created from which points are discarded until all distances are greater than the required limit."
   ]
  },
  {
   "cell_type": "markdown",
   "id": "e6fea7bf",
   "metadata": {},
   "source": [
    "#### 3.1.1. Initial sampling\n",
    "\n",
    "The 2D range search can have an $O(N^{2})$ complexity if the search radius is comparable to the extent of the point set. Regions of high point density can also lead to degradation of the performance. Choosing the correct search radius is thus crucial. \n",
    "\n",
    "The point coordinates will, some point, be scaled to the canvas coordinates taking the resolution into account. The relationship between the drawing line width and the size of the pysically available canvas will eventually determine the number of points.\n",
    "\n",
    "Let\n",
    "* $h, w$ the height and the width of the draw area\n",
    "* $l = \\sqrt{h \\cdot w}$ the charateristic size of the draw area.\n",
    "* $d$ the line width in the same units as $l$\n",
    "* $\\rho = m d$ is the minimmum required separation; a small multiple of the line width\n",
    "* if $h$ and $w$ are roughly equal and much larger than $\\rho$ then\n",
    "* $N \\approx \\left[ \\frac{l}{m d} \\right]^{2}$ points can be placed on the canvas\n",
    "\n",
    "The questions is how many points can be placed on a canvas of given size and a given line width so that a specified portion of the points will be closer to each other than the required limit. The nearest neighbour distances are spread according to the Rayleigh distribution\n",
    "\n",
    "$$\n",
    "    P(r \\leq R) = 1 - \\exp\\left[ - \\frac{R^{2}}{2 \\sigma^{2}} \\right] \\\\\n",
    "    \\sigma^{2} = \\frac{A}{2 \\pi N} = \\frac{l^{2}}{2 \\pi N}\n",
    "$$\n",
    "\n",
    "where $r$ is the nearest neighbour distance $A$ is the area of the point set, $N$ is the number of points. \n",
    "\n",
    "$$\n",
    "    p = P(r \\leq m d ) = 1 - \\exp \\left[ - \\frac{m^{2} d^{2}}{2} \\frac{2 \\pi N}{l^{2}} \\right]\n",
    "$$\n",
    "\n",
    "From which \n",
    "\n",
    "$$\n",
    "    N  = - \\left[ \\frac{l}{md} \\right]^{2} \\frac{\\ln(1 - p)}{\\pi }\n",
    "$$\n",
    "\n",
    "The function `calc_2D_points_sample_size` estimates the maximum allowed number of points."
   ]
  },
  {
   "cell_type": "markdown",
   "id": "e7ad4c68",
   "metadata": {},
   "source": [
    "#### Nearest Neighbour Graph\n",
    "\n",
    "A kD-tree is constructed from the points ($O(N\\log(N))$). The pairs which are closer than the minimum required distance are found by a range search. The average cost is $O(\\log(N))$ whilst the worst case cost is $O(N^{2})$. By limiting the maximum number of points we have already reduced the possibility of this happening so.\n",
    "\n",
    "The `KDTree` structure of the `NearestNeighbours` package is used to construct the graph which is implemented in the `create_neighbour_graph` function."
   ]
  },
  {
   "cell_type": "markdown",
   "id": "b5a3feab",
   "metadata": {},
   "source": [
    "#### Thinning\n",
    "\n",
    "The aim, still, is to create a set of dense points with a required minimum distance between them. A simple algorithm is outlined below to obtain a set specified so. Let $\\mathcal{S} \\subset \\mathbb{R}^{2}$ be a non-empty set of points in the plane. \n",
    "\n",
    "Let $d$ be the $L_{2}$ distance over $\\mathbb{R}^{2}$. Then collect all pairs of points whose distance is smaller than the limit:\n",
    "$$\n",
    "    E \\subseteq \\mathcal{S}^{2} = \\left\\{ \n",
    "        s, t \\in \\mathcal{S}: d(s, t) < \\rho\n",
    "    \\right\\} \\, .\n",
    "$$\n",
    "\n",
    "$(\\mathcal{S}, E)$ is then a graph (it is most likely to be a forest). If the graph has no edges then all points are separated by the desired amount. The task of creating a point set is in essence is reduced to solving a trivial graph problem. The question is in what order the edges should be removed. We will eliminate them is descending along their degrees in order to retain the most points."
   ]
  },
  {
   "cell_type": "markdown",
   "id": "4f2db460",
   "metadata": {},
   "source": [
    "##### Algorithm\n",
    "\n",
    "$\\texttt{ThinGraph}$ is the algorithm that marks the points removal of which results in a set in which all pair distance are not less than the minimum required limit.\n",
    "\n",
    "$$\n",
    "\\begin{eqnarray}\n",
    "     &\\, &\\text{Algorithm } \\texttt{ThinGraph} \\\\\n",
    "%\n",
    "     &\\,& \\textbf{Inputs: } (\\mathcal{S}, E) \n",
    "            & \\quad  \\text{(neighbourhood graph)} \\\\\n",
    "%\n",
    "    &\\,& \\textbf{Output: } \\mathcal{R}\n",
    "        & \\quad \\text{(set of vertices to remove)} \\\\\n",
    "%\n",
    "    &1.& \\mathcal{R} \\leftarrow \\emptyset \\\\\n",
    "%\n",
    "    &2.&  \\mathcal{V} \\leftarrow \\texttt{SelectVertices}(\\mathcal{G}, m) \n",
    "        & \\quad \\text{(select vertices of large degrees)} \\\\\n",
    "%\n",
    "    &3.& \\mathcal{V} \\leftarrow \\texttt{OrderVertices}(\\mathcal{V})\n",
    "        & \\quad \\text{(make ordered set)} \\\\\n",
    "%\n",
    "    &4.& \\mathbf{while} |\\mathcal{V}| \\neq 0\n",
    "        & \\quad \\\\\n",
    "%\n",
    "    &5.& \\quad\n",
    "        s \\leftarrow \\texttt{PopFirst}(\\mathcal{V})\n",
    "        & \\quad \\text{(remove vertex of largest degree)} \\\\\n",
    "%\n",
    "    &6.& \\quad\n",
    "        \\mathcal{R} \\leftarrow \\mathcal{R} \\cup \\{ s \\}\n",
    "        & \\quad \\text{(save vertex)} \\\\\n",
    "%\n",
    "    &7.& \\quad \n",
    "        \\mathbf{for} \\, t \\in \\mathcal{N}(s)\n",
    "        & \\quad \\text{(investigate neighbours in the vertex)} \\\\\n",
    "%\n",
    "    &8.& \\quad \\quad\n",
    "        \\mathbf{if} \\, t \\notin \\mathcal{V}\n",
    "        & \\quad \\text{(vertex has already been removed)} \\\\\n",
    "%\n",
    "    &9.& \\quad \\quad \\quad\n",
    "    \\mathbf{continue} & \\\\\n",
    "%\n",
    "    &10.& \\quad \\quad\n",
    "    \\mathbf{end} & \\\\\n",
    "%\n",
    "    &11.& \\quad  \\quad\n",
    "        E \\leftarrow E \\setminus \\{ (s, t) \\}\n",
    "        & \\quad \\text{(remove edge from the graph)} \\\\\n",
    "%\n",
    "    &12.& \\quad \\quad\n",
    "        \\mathbf{if} \\, \\mathrm{deg}(t) < m\n",
    "        & \\quad \\text{(has allowed number of edges)} \\\\\n",
    "%\n",
    "    &13.& \\quad \\quad \\quad \n",
    "        \\mathcal{S} \\leftarrow \\mathcal{S} \\setminus \\{ t \\}\n",
    "        & \\quad \\text{(vertex is no longer of interest)} \\\\\n",
    "%\n",
    "    &14.& \\quad\\quad\n",
    "    \\mathbf{end} & \\\\\n",
    "%\n",
    "    &15.& \\quad\n",
    "    \\mathbf{end} & \\\\\n",
    "%\n",
    "    &16.& \n",
    "    \\mathbf{end} & \\\\\n",
    "    &23.&   \\textbf{return } \\mathcal{R}&  \\\\\n",
    "\\end{eqnarray}\n",
    "$$"
   ]
  },
  {
   "cell_type": "markdown",
   "id": "32e1aa4c",
   "metadata": {},
   "source": [
    "A handful of remarks on the algorithm\n",
    "* $\\texttt{SelectVertices}$ selects those vertices whose degree is greater than a limit. This limit is one in this problem.\n",
    "* $\\texttt{OrderVertices}$ orders the vertices in a descening sequence according to their degrees\n",
    "* We immediately see that a data structure is needed which\n",
    "    * is ordered\n",
    "    * provides $O(1)$ lookup\n",
    "    * is mutable\n",
    "    \n",
    "##### Implementation\n",
    "\n",
    "The `thin_graph` function implements the edge removal algorithm.\n",
    "```julia\n",
    "function thin_graph(graph::DictGraph{T}, max_degree::Int) where T\n",
    "\n",
    "    # vertex degree mapping\n",
    "    degrees = Dict(\n",
    "        vertex => length(get_neighbours(graph, vertex))\n",
    "        for vertex in get_vertices(graph)\n",
    "    )\n",
    "    # select vertices which are in more than the allowed edges\n",
    "    degrees = Dict(\n",
    "        vertex => degree for (vertex, degree) in degrees if degree > max_degree\n",
    "    )\n",
    "    vertices = collect(keys(degrees))\n",
    "    degrees = [degrees[vertex] for vertex in vertices]\n",
    "\n",
    "    # sort the selected vertices in descending order acc. to their degrees\n",
    "    idcs = sortperm(degrees, rev=true)\n",
    "    degrees = OrderedDict(zip(vertices[idcs], degrees[idcs]))\n",
    "\n",
    "    # remove vertices -- one pass is enough\n",
    "    to_remove = Set{T}()\n",
    "    for (s, _) in degrees\n",
    "        \n",
    "        # explicit vertex deletion\n",
    "        # for some reason, we need to reference `degrees`\n",
    "        # otherwise the vertex is not deleted\n",
    "        if haskey(degrees, s)\n",
    "            delete!(degrees, s)\n",
    "            push!(to_remove, s)\n",
    "        end\n",
    "\n",
    "        # implicit vertex deletion through edges\n",
    "        for t in get_neighbours(graph, s)\n",
    "            if haskey(degrees, t)\n",
    "                deg_curr = degrees[t] -= 1\n",
    "                if deg_curr <= max_degree\n",
    "                    delete!(degrees, t)\n",
    "                end\n",
    "            end\n",
    "        end\n",
    "    end\n",
    "\n",
    "    collect(to_remove)\n",
    "end\n",
    "```\n",
    "Notes,\n",
    "* the central data structure is the degrees `OrderedDict` which fulfills all three requirements\n",
    "* it stores the degrees of the vertices of the neighbour graph"
   ]
  },
  {
   "cell_type": "code",
   "execution_count": 20,
   "id": "42246713",
   "metadata": {
    "scrolled": false
   },
   "outputs": [
    {
     "data": {
      "text/plain": [
       "2×2869 Matrix{Int64}:\n",
       " 459  349  377  943  880  735  304  330  …  489  584  525  906  524  133  842\n",
       " 122  199   55  768  877  334  870  930     286  271  806  581  775    6  926"
      ]
     },
     "execution_count": 20,
     "metadata": {},
     "output_type": "execute_result"
    }
   ],
   "source": [
    "height_canvas = 960\n",
    "width_canvas = 960\n",
    "xy = sample_drawing_points_2d(4000, height_canvas, width_canvas, 2, 4)\n",
    "xy"
   ]
  },
  {
   "cell_type": "code",
   "execution_count": 19,
   "id": "0160cc5c",
   "metadata": {},
   "outputs": [
    {
     "data": {
      "text/plain": [
       "TriGraph{Int64}(Dict(4986 => [3844, 5166, 783], 4700 => [2404, 1809, 3275], 4576 => [3872, 3334, 3366], 2288 => [2287, 1838, 3492], 1703 => [1702, 3217, 4214], 1956 => [1955, 2582, 2196], 2350 => [1512, 3860, 1982], 3406 => [2382, 3423, 695], 2841 => [2842, 4841, 5222], 2876 => [767, 3393, 5546]…), Dict((594, 595) => (1047, 1342), (1227, 1228) => (2, 1218), (3211, 4489) => (2326, 2430), (1103, 1864) => (1012, 2282), (1828, 4693) => (900, 1822), (4227, 5091) => (302, 2730), (1918, 3896) => (306, 1642), (2738, 2739) => (1087, 2153), (1722, 5312) => (1059, 1920), (921, 922) => (81, 1405)…), Triangulation{Matrix{Float64}, Set{Tuple{Int64, Int64, Int64}}, Int64, Tuple{Int64, Int64}, Set{Tuple{Int64, Int64}}, Vector{Int64}, Dict{Tuple{Int64, Int64}, Tuple{Vector{Int64}, Int64}}, OrderedCollections.OrderedDict{Int64, Vector{Int64}}, OrderedCollections.OrderedDict{Int64, UnitRange{Int64}}, Dict{Int64, DelaunayTriangulation.RepresentativeCoordinates{Int64, Float64}}}([873.0 433.0 … 807.0 665.0; 51.0 766.0 … 105.0 380.0], Set([(595, 2682, 2354), (42, 315, 2395), (1374, 911, 123), (1219, 316, 602), (2507, 131, 1544), (960, 1749, 292), (148, 2113, 544), (398, 1976, 1123), (731, 1642, 926), (2464, 1325, 1774)  …  (1967, 380, 1306), (2670, 1190, 1125), (45, 451, 35), (2649, 1638, 706), (951, 2410, 1445), (2192, 1359, 1624), (180, 1247, 1919), (2279, 1995, 1573), (2695, 152, 880), (531, 2225, 861)]), DelaunayTriangulation.Adjacent{Int64, Tuple{Int64, Int64}}(Dict((869, 1756) => 288, (2024, 214) => 665, (2307, 1749) => 2790, (658, 1036) => 1784, (825, 1428) => 1799, (829, 1394) => 1733, (1836, 525) => 2763, (794, 1996) => 2579, (1970, 1176) => 139, (1470, 900) => 1822…)), DelaunayTriangulation.Adjacent2Vertex{Int64, Set{Tuple{Int64, Int64}}, Tuple{Int64, Int64}}(Dict{Int64, Set{Tuple{Int64, Int64}}}(2108 => Set([(831, 696), (696, 1305), (845, 2026), (1305, 845), (2026, 831)]), 1144 => Set([(2182, 2745), (460, 23), (236, 451), (2745, 236), (23, 2182), (451, 460)]), 1175 => Set([(1657, 1644), (2369, 2604), (823, 2369), (1644, 823), (2604, 1657)]), 2288 => Set([(495, 988), (988, 814), (2487, 495), (814, 68), (68, 2487)]), 1546 => Set([(904, 2780), (1748, 406), (1880, 1748), (406, 904), (2780, 1880)]), 1703 => Set([(1156, 1992), (323, 806), (2009, 1156), (806, 1467), (1992, 323), (1467, 544), (544, 2009)]), 1956 => Set([(582, 1508), (1839, 1087), (727, 1839), (1087, 582), (1508, 727)]), 2350 => Set([(897, 2309), (1618, 1416), (1416, 690), (2309, 1618), (121, 897), (690, 121)]), 2493 => Set([(888, 2137), (142, 888), (241, 142), (2137, 241)]), 1028 => Set([(855, 839), (311, 855), (839, 1834), (1834, 2782), (2782, 311)])…)), DelaunayTriangulation.Graph{Int64}(UndirectedGraph{Int64} (n=2832, m=8490)), Int64[], Dict{Tuple{Int64, Int64}, Tuple{Vector{Int64}, Int64}}(), OrderedCollections.OrderedDict(-1 => []), OrderedCollections.OrderedDict{Int64, UnitRange{Int64}}(-1 => -1:-1), Set{Tuple{Int64, Int64}}(), Set{Tuple{Int64, Int64}}(), ConvexHull{Matrix{Float64}, Vector{Int64}}([873.0 433.0 … 807.0 665.0; 51.0 766.0 … 105.0 380.0], [1605, 1364, 2697, 2546, 856, 2451, 2105, 1777, 727, 1118  …  1647, 929, 2160, 1881, 1656, 24, 1993, 1928, 2788, 1605]), Dict{Int64, DelaunayTriangulation.RepresentativeCoordinates{Int64, Float64}}(1 => DelaunayTriangulation.RepresentativeCoordinates{Int64, Float64}(480.5, 480.5, 0))))"
      ]
     },
     "execution_count": 19,
     "metadata": {},
     "output_type": "execute_result"
    }
   ],
   "source": [
    "tri_graph = TriGraph{Int}(xy)\n",
    "tri_graph"
   ]
  },
  {
   "cell_type": "markdown",
   "id": "c531b6c4",
   "metadata": {},
   "source": [
    "### 4. Links\n",
    "\n",
    "The links are generated with the `make_loop_erased_random_walk_maze_links` function. A links is the pair of the the indices of two adjoining triangles whose shared side is removed to create a path. Again, it only requires that the `get_neighbours` function is defined for this particular type of graph."
   ]
  },
  {
   "cell_type": "code",
   "execution_count": 21,
   "id": "dc633c3a",
   "metadata": {},
   "outputs": [
    {
     "data": {
      "text/plain": [
       "2×5636 Matrix{Int64}:\n",
       " 3275  3275  2021  2021  2022  2153  …  4555  458  2999   241  4724  4496\n",
       " 4700  5383  5383  2022  2153  5452     4759  459  3847  1711  4970  5068"
      ]
     },
     "execution_count": 21,
     "metadata": {},
     "output_type": "execute_result"
    }
   ],
   "source": [
    "links = make_loop_erased_random_walk_maze_links(tri_graph)\n",
    "links"
   ]
  },
  {
   "cell_type": "markdown",
   "id": "f2dcd276",
   "metadata": {},
   "source": [
    "### 5. Drawing\n",
    "\n",
    "#### 5.1. Transforming to geometrical objects\n",
    "\n",
    "The `select_sides_to_draw_tri` gathers those triangle sides which are retained. E.g. the connectivity of two triangles is represented by removing their shared sides. The geometric object to draw are therefore not triangles but straingth lines."
   ]
  },
  {
   "cell_type": "code",
   "execution_count": 22,
   "id": "ae849f80",
   "metadata": {
    "scrolled": true
   },
   "outputs": [
    {
     "data": {
      "text/plain": [
       "2831-element Vector{Vector{Int64}}:\n",
       " [433, 211, 425, 230]\n",
       " [870, 319, 847, 317]\n",
       " [880, 776, 853, 775]\n",
       " [454, 303, 474, 281]\n",
       " [360, 752, 346, 760]\n",
       " [90, 886, 94, 903]\n",
       " [180, 768, 152, 755]\n",
       " [912, 828, 925, 810]\n",
       " [702, 181, 737, 167]\n",
       " [855, 722, 836, 742]\n",
       " [35, 804, 38, 788]\n",
       " [415, 818, 393, 816]\n",
       " [117, 184, 118, 209]\n",
       " ⋮\n",
       " [74, 379, 77, 394]\n",
       " [376, 840, 383, 851]\n",
       " [507, 215, 477, 208]\n",
       " [387, 475, 395, 488]\n",
       " [348, 138, 319, 134]\n",
       " [522, 773, 511, 769]\n",
       " [210, 957, 228, 940]\n",
       " [766, 937, 744, 926]\n",
       " [960, 724, 960, 679]\n",
       " [222, 545, 246, 530]\n",
       " [832, 570, 838, 585]\n",
       " [396, 420, 390, 408]"
      ]
     },
     "execution_count": 22,
     "metadata": {},
     "output_type": "execute_result"
    }
   ],
   "source": [
    "sides_to_draw = select_sides_to_draw_tri(tri_graph, links)\n",
    "sides_to_draw"
   ]
  },
  {
   "cell_type": "markdown",
   "id": "68939551",
   "metadata": {},
   "source": [
    "#### 5.2. Rendering\n",
    "\n",
    "A bitmap of lines is constructed through rasterisation using the excellent `SimpleDraw` library."
   ]
  },
  {
   "cell_type": "code",
   "execution_count": 14,
   "id": "53953b34",
   "metadata": {},
   "outputs": [
    {
     "data": {
      "text/plain": [
       "960×960 Matrix{Int64}:\n",
       " 1  1  1  1  1  1  1  1  1  1  1  1  1  …  1  1  1  1  1  1  1  1  1  1  1  1\n",
       " 1  1  1  1  1  1  1  1  1  1  1  1  1     0  0  0  0  0  0  0  0  0  0  0  0\n",
       " 1  1  1  1  1  1  1  1  1  1  1  1  1     1  1  1  1  1  1  1  1  1  1  1  0\n",
       " 1  1  1  1  1  1  1  1  1  1  1  0  0     1  1  1  1  1  1  1  1  1  1  1  0\n",
       " 1  1  1  1  1  1  1  1  1  0  0  1  1     1  1  1  1  1  1  1  1  1  1  1  0\n",
       " 1  1  1  1  1  1  1  1  1  0  1  1  1  …  1  1  1  1  1  1  1  1  1  1  1  0\n",
       " 1  1  1  1  1  1  1  1  1  0  1  1  1     1  1  1  1  1  1  1  1  1  1  1  0\n",
       " 1  1  1  1  1  1  1  1  1  0  1  1  1     1  1  1  1  1  1  1  1  1  1  1  0\n",
       " 1  1  1  1  1  1  1  1  1  0  1  1  1     1  1  1  1  1  1  1  1  1  1  1  0\n",
       " 1  1  1  1  1  1  1  1  1  0  1  1  1     1  1  1  1  1  1  1  1  1  1  1  0\n",
       " 1  1  1  1  1  1  1  1  1  0  1  1  1  …  1  1  1  1  1  1  1  1  1  1  1  0\n",
       " 1  1  1  1  1  1  1  1  1  0  1  1  1     1  1  1  1  1  1  1  1  1  1  1  0\n",
       " 1  1  1  1  1  1  1  1  1  0  1  1  1     1  1  1  1  1  1  1  1  1  1  1  0\n",
       " ⋮              ⋮              ⋮        ⋱        ⋮              ⋮           \n",
       " 1  1  1  1  1  1  1  0  1  1  1  1  1     1  1  1  1  1  1  1  1  1  1  1  1\n",
       " 1  1  1  1  1  1  1  0  1  1  1  1  1     1  1  1  1  1  1  1  1  1  1  1  1\n",
       " 1  1  1  1  1  1  1  0  1  1  1  1  1  …  1  1  1  1  1  1  1  1  1  1  1  1\n",
       " 1  1  1  1  1  1  1  0  1  1  1  1  1     1  1  1  1  1  1  1  1  1  1  1  1\n",
       " 1  1  1  1  1  1  1  0  1  1  1  1  1     1  1  1  1  1  1  1  1  1  1  1  1\n",
       " 1  1  1  1  1  1  1  0  0  0  0  0  0     1  1  1  1  1  1  1  1  1  1  1  1\n",
       " 1  1  1  1  1  1  1  1  1  1  1  1  1     1  1  1  1  1  1  1  1  1  1  1  1\n",
       " 1  1  1  1  1  1  1  1  1  1  1  1  1  …  1  1  1  1  1  1  1  1  1  1  1  1\n",
       " 1  1  1  1  1  1  1  1  1  1  1  1  1     1  1  1  1  1  1  1  1  1  1  1  1\n",
       " 1  1  1  1  1  1  1  1  1  1  1  1  1     1  1  1  1  1  1  1  1  1  1  1  1\n",
       " 1  1  1  1  1  1  1  1  1  1  1  1  1     1  1  1  1  1  1  1  1  1  1  1  1\n",
       " 1  1  1  1  1  1  1  1  1  1  1  1  1     1  1  1  1  1  1  1  1  1  1  1  1"
      ]
     },
     "execution_count": 14,
     "metadata": {},
     "output_type": "execute_result"
    }
   ],
   "source": [
    "img = draw_lines_on_bitmap(height_canvas, width_canvas, sides_to_draw, 1)\n",
    "save(\"/home/bhornung/Desktop/maze-delaunay-style.png\", colorview(Gray, img ./1.0))\n",
    "img"
   ]
  },
  {
   "cell_type": "markdown",
   "id": "36b4623c",
   "metadata": {},
   "source": [
    "## Conclusion\n",
    "\n",
    "We have defined mazes as graphs and implemented a generator of them agnostic of what objects constitute the actual maze. The creation of mazes requires the effort to be concentrated at making a mathematical representation of the objects and their preparation for rendering."
   ]
  }
 ],
 "metadata": {
  "@webio": {
   "lastCommId": null,
   "lastKernelId": null
  },
  "kernelspec": {
   "display_name": "Julia 1.7.1",
   "language": "julia",
   "name": "julia-1.7"
  },
  "language_info": {
   "file_extension": ".jl",
   "mimetype": "application/julia",
   "name": "julia",
   "version": "1.7.1"
  }
 },
 "nbformat": 4,
 "nbformat_minor": 5
}
